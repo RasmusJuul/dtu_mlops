{
 "cells": [
  {
   "cell_type": "code",
   "execution_count": 17,
   "metadata": {},
   "outputs": [],
   "source": [
    "import torch\n",
    "import torchvision.models as models\n",
    "from torch.profiler import profile, record_function, ProfilerActivity, tensorboard_trace_handler"
   ]
  },
  {
   "cell_type": "code",
   "execution_count": 18,
   "metadata": {},
   "outputs": [],
   "source": [
    "model = models.resnet18()\n",
    "inputs = torch.randn(5, 3, 224, 224)"
   ]
  },
  {
   "cell_type": "code",
   "execution_count": 19,
   "metadata": {},
   "outputs": [],
   "source": [
    "with profile(activities=[ProfilerActivity.CPU], record_shapes=True, profile_memory=True,on_trace_ready=tensorboard_trace_handler(\"profiles/\")) as prof:\n",
    "   with record_function(\"model_inference\"):\n",
    "      model(inputs)"
   ]
  },
  {
   "cell_type": "code",
   "execution_count": 14,
   "metadata": {},
   "outputs": [
    {
     "name": "stdout",
     "output_type": "stream",
     "text": [
      "---------------------------------  ------------  ------------  ------------  ------------  ------------  ------------  ------------  ------------  \n",
      "                             Name    Self CPU %      Self CPU   CPU total %     CPU total  CPU time avg       CPU Mem  Self CPU Mem    # of Calls  \n",
      "---------------------------------  ------------  ------------  ------------  ------------  ------------  ------------  ------------  ------------  \n",
      "                  model_inference         2.41%       8.572ms        99.98%     355.983ms     355.983ms          -4 b    -106.30 Mb             1  \n",
      "                     aten::conv2d         0.05%     178.000us        55.72%     198.395ms       9.920ms      47.37 Mb           0 b            20  \n",
      "                aten::convolution         0.16%     554.000us        55.67%     198.217ms       9.911ms      47.37 Mb           0 b            20  \n",
      "               aten::_convolution         0.11%     383.000us        55.51%     197.663ms       9.883ms      47.37 Mb           0 b            20  \n",
      "         aten::mkldnn_convolution        55.00%     195.849ms        55.41%     197.280ms       9.864ms      47.37 Mb           0 b            20  \n",
      "                 aten::batch_norm         0.06%     205.000us        27.87%      99.217ms       4.961ms      47.41 Mb           0 b            20  \n",
      "     aten::_batch_norm_impl_index         0.09%     329.000us        27.81%      99.012ms       4.951ms      47.41 Mb           0 b            20  \n",
      "          aten::native_batch_norm        22.91%      81.586ms        27.70%      98.633ms       4.932ms      47.41 Mb     -75.00 Kb            20  \n",
      "                 aten::max_pool2d         0.01%      35.000us         7.24%      25.763ms      25.763ms      11.48 Mb           0 b             1  \n",
      "    aten::max_pool2d_with_indices         7.23%      25.728ms         7.23%      25.728ms      25.728ms      11.48 Mb      11.48 Mb             1  \n",
      "---------------------------------  ------------  ------------  ------------  ------------  ------------  ------------  ------------  ------------  \n",
      "Self CPU time total: 356.061ms\n",
      "\n"
     ]
    }
   ],
   "source": [
    "print(prof.key_averages().table(sort_by=\"cpu_time_total\", row_limit=10))"
   ]
  },
  {
   "cell_type": "code",
   "execution_count": 8,
   "metadata": {},
   "outputs": [
    {
     "name": "stdout",
     "output_type": "stream",
     "text": [
      "---------------------------------  ------------  ------------  ------------  ------------  ------------  ------------  ------------  ------------  --------------------------------------------------------------------------------  \n",
      "                             Name    Self CPU %      Self CPU   CPU total %     CPU total  CPU time avg       CPU Mem  Self CPU Mem    # of Calls                                                                      Input Shapes  \n",
      "---------------------------------  ------------  ------------  ------------  ------------  ------------  ------------  ------------  ------------  --------------------------------------------------------------------------------  \n",
      "                  model_inference         2.41%       8.572ms        99.98%     355.983ms     355.983ms          -4 b    -106.30 Mb             1                                                                                []  \n",
      "                     aten::conv2d         0.01%      38.000us        12.55%      44.673ms      11.168ms      15.31 Mb           0 b             4                             [[5, 64, 56, 56], [64, 64, 3, 3], [], [], [], [], []]  \n",
      "                aten::convolution         0.01%      51.000us        12.54%      44.635ms      11.159ms      15.31 Mb           0 b             4                     [[5, 64, 56, 56], [64, 64, 3, 3], [], [], [], [], [], [], []]  \n",
      "               aten::_convolution         0.02%      70.000us        12.52%      44.584ms      11.146ms      15.31 Mb           0 b             4     [[5, 64, 56, 56], [64, 64, 3, 3], [], [], [], [], [], [], [], [], [], [], []]  \n",
      "         aten::mkldnn_convolution        12.19%      43.392ms        12.50%      44.514ms      11.129ms      15.31 Mb           0 b             4                             [[5, 64, 56, 56], [64, 64, 3, 3], [], [], [], [], []]  \n",
      "                     aten::conv2d         0.01%      32.000us        10.67%      37.975ms      12.658ms       2.87 Mb           0 b             3                          [[5, 256, 14, 14], [256, 256, 3, 3], [], [], [], [], []]  \n",
      "                aten::convolution         0.08%     302.000us        10.66%      37.943ms      12.648ms       2.87 Mb           0 b             3                  [[5, 256, 14, 14], [256, 256, 3, 3], [], [], [], [], [], [], []]  \n",
      "               aten::_convolution         0.02%      56.000us        10.57%      37.641ms      12.547ms       2.87 Mb           0 b             3  [[5, 256, 14, 14], [256, 256, 3, 3], [], [], [], [], [], [], [], [], [], [], []]  \n",
      "         aten::mkldnn_convolution        10.54%      37.539ms        10.56%      37.585ms      12.528ms       2.87 Mb           0 b             3                          [[5, 256, 14, 14], [256, 256, 3, 3], [], [], [], [], []]  \n",
      "                     aten::conv2d         0.01%      26.000us         9.43%      33.560ms      11.187ms       5.74 Mb           0 b             3                          [[5, 128, 28, 28], [128, 128, 3, 3], [], [], [], [], []]  \n",
      "                aten::convolution         0.01%      34.000us         9.42%      33.534ms      11.178ms       5.74 Mb           0 b             3                  [[5, 128, 28, 28], [128, 128, 3, 3], [], [], [], [], [], [], []]  \n",
      "               aten::_convolution         0.01%      48.000us         9.41%      33.500ms      11.167ms       5.74 Mb           0 b             3  [[5, 128, 28, 28], [128, 128, 3, 3], [], [], [], [], [], [], [], [], [], [], []]  \n",
      "         aten::mkldnn_convolution         9.38%      33.407ms         9.40%      33.452ms      11.151ms       5.74 Mb           0 b             3                          [[5, 128, 28, 28], [128, 128, 3, 3], [], [], [], [], []]  \n",
      "                 aten::batch_norm         0.01%      46.000us         9.18%      32.694ms       8.174ms      15.31 Mb           0 b             4                         [[5, 64, 56, 56], [64], [64], [64], [64], [], [], [], []]  \n",
      "     aten::_batch_norm_impl_index         0.02%      78.000us         9.17%      32.648ms       8.162ms      15.31 Mb           0 b             4                         [[5, 64, 56, 56], [64], [64], [64], [64], [], [], [], []]  \n",
      "          aten::native_batch_norm         6.90%      24.583ms         9.14%      32.558ms       8.139ms      15.31 Mb      -4.00 Kb             4                             [[5, 64, 56, 56], [64], [64], [64], [64], [], [], []]  \n",
      "                     aten::conv2d         0.01%      25.000us         9.10%      32.396ms      10.799ms       1.44 Mb           0 b             3                            [[5, 512, 7, 7], [512, 512, 3, 3], [], [], [], [], []]  \n",
      "                aten::convolution         0.01%      31.000us         9.09%      32.371ms      10.790ms       1.44 Mb           0 b             3                    [[5, 512, 7, 7], [512, 512, 3, 3], [], [], [], [], [], [], []]  \n",
      "               aten::_convolution         0.01%      49.000us         9.08%      32.340ms      10.780ms       1.44 Mb           0 b             3    [[5, 512, 7, 7], [512, 512, 3, 3], [], [], [], [], [], [], [], [], [], [], []]  \n",
      "         aten::mkldnn_convolution         9.04%      32.179ms         9.07%      32.291ms      10.764ms       1.44 Mb           0 b             3                            [[5, 512, 7, 7], [512, 512, 3, 3], [], [], [], [], []]  \n",
      "                 aten::batch_norm         0.01%      50.000us         8.15%      29.023ms       5.805ms       9.58 Mb           0 b             5                    [[5, 128, 28, 28], [128], [128], [128], [128], [], [], [], []]  \n",
      "     aten::_batch_norm_impl_index         0.02%      89.000us         8.14%      28.973ms       5.795ms       9.58 Mb           0 b             5                    [[5, 128, 28, 28], [128], [128], [128], [128], [], [], [], []]  \n",
      "          aten::native_batch_norm         6.77%      24.096ms         8.11%      28.872ms       5.774ms       9.58 Mb     -10.00 Kb             5                        [[5, 128, 28, 28], [128], [128], [128], [128], [], [], []]  \n",
      "                 aten::max_pool2d         0.01%      35.000us         7.24%      25.763ms      25.763ms      11.48 Mb           0 b             1                                           [[5, 64, 112, 112], [], [], [], [], []]  \n",
      "    aten::max_pool2d_with_indices         7.23%      25.728ms         7.23%      25.728ms      25.728ms      11.48 Mb      11.48 Mb             1                                           [[5, 64, 112, 112], [], [], [], [], []]  \n",
      "                     aten::conv2d         0.00%      12.000us         4.94%      17.579ms      17.579ms      15.31 Mb           0 b             1                             [[5, 3, 224, 224], [64, 3, 7, 7], [], [], [], [], []]  \n",
      "                aten::convolution         0.01%      25.000us         4.93%      17.567ms      17.567ms      15.31 Mb           0 b             1                     [[5, 3, 224, 224], [64, 3, 7, 7], [], [], [], [], [], [], []]  \n",
      "               aten::_convolution         0.01%      18.000us         4.93%      17.542ms      17.542ms      15.31 Mb           0 b             1     [[5, 3, 224, 224], [64, 3, 7, 7], [], [], [], [], [], [], [], [], [], [], []]  \n",
      "         aten::mkldnn_convolution         4.91%      17.497ms         4.92%      17.524ms      17.524ms      15.31 Mb           0 b             1                             [[5, 3, 224, 224], [64, 3, 7, 7], [], [], [], [], []]  \n",
      "                 aten::batch_norm         0.01%      41.000us         4.65%      16.572ms       3.314ms       4.79 Mb           0 b             5                    [[5, 256, 14, 14], [256], [256], [256], [256], [], [], [], []]  \n",
      "---------------------------------  ------------  ------------  ------------  ------------  ------------  ------------  ------------  ------------  --------------------------------------------------------------------------------  \n",
      "Self CPU time total: 356.061ms\n",
      "\n"
     ]
    }
   ],
   "source": [
    "print(prof.key_averages(group_by_input_shape=True).table(sort_by=\"cpu_time_total\", row_limit=30))"
   ]
  },
  {
   "cell_type": "code",
   "execution_count": 16,
   "metadata": {},
   "outputs": [],
   "source": [
    "prof.export_chrome_trace(\"trace.json\")"
   ]
  },
  {
   "cell_type": "code",
   "execution_count": null,
   "metadata": {},
   "outputs": [],
   "source": []
  }
 ],
 "metadata": {
  "interpreter": {
   "hash": "fb3e7f68199bea43e3705d8a9e4b492d525ebd466c611d6a7a518c3b7525d119"
  },
  "kernelspec": {
   "display_name": "Python 3.9.7 64-bit ('mlops': conda)",
   "language": "python",
   "name": "python3"
  },
  "language_info": {
   "codemirror_mode": {
    "name": "ipython",
    "version": 3
   },
   "file_extension": ".py",
   "mimetype": "text/x-python",
   "name": "python",
   "nbconvert_exporter": "python",
   "pygments_lexer": "ipython3",
   "version": "3.9.7"
  },
  "orig_nbformat": 4
 },
 "nbformat": 4,
 "nbformat_minor": 2
}
